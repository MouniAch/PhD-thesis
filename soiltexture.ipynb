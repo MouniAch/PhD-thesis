{
 "cells": [
  {
   "cell_type": "code",
   "execution_count": 51,
   "metadata": {},
   "outputs": [
    {
     "name": "stdout",
     "output_type": "stream",
     "text": [
      "All editing sessions have been stopped.\n"
     ]
    }
   ],
   "source": [
    "# Start an edit session\n",
    "edit = arcpy.da.Editor(workspace)\n",
    "edit.startEditing(False, True)\n",
    "\n",
    "# Stop all edit sessions\n",
    "edit.stopEditing(True)\n",
    "\n",
    "print(\"All editing sessions have been stopped.\")"
   ]
  },
  {
   "cell_type": "code",
   "execution_count": 52,
   "metadata": {},
   "outputs": [
    {
     "name": "stdout",
     "output_type": "stream",
     "text": [
      "Texture field populated successfully with additional classification steps.\n"
     ]
    }
   ],
   "source": [
    "import arcpy\n",
    "\n",
    "# Set the workspace\n",
    "workspace = r\"D:/ECCC/MyProject/MyProject.gdb\"\n",
    "arcpy.env.workspace = workspace\n",
    "\n",
    "# Define the name of your shapefile and fields\n",
    "shapefile = \"SoilParticles2\"\n",
    "clay_field = \"clay\"\n",
    "silt_field = \"silt\"\n",
    "sand_field = \"sand\"\n",
    "texture_field = \"texture\"\n",
    "\n",
    "# Check if the texture field exists, and if not, add it\n",
    "if not arcpy.ListFields(shapefile, texture_field):\n",
    "    arcpy.AddField_management(shapefile, texture_field, \"TEXT\")\n",
    "\n",
    "# Start an edit session\n",
    "edit = arcpy.da.Editor(workspace)\n",
    "edit.startEditing(False, True)\n",
    "edit.startOperation()\n",
    "\n",
    "# Primary classification function based on USDA soil texture triangle\n",
    "def primary_classify_texture(clay, silt, sand):\n",
    "    if sand >= 85 and silt <= 10 and clay <= 15:\n",
    "        return \"Sand\"\n",
    "    elif sand >= 70 and sand < 90 and silt <= 30 and clay <= 15:\n",
    "        return \"Loamy Sand\"\n",
    "    elif sand >= 43 and sand <= 85 and silt >= 10 and silt <= 50 and clay <= 20:\n",
    "        return \"Sandy Loam\"\n",
    "    elif sand >= 23 and sand <= 52 and silt >= 28 and silt <= 50 and clay >= 7 and clay <= 27:\n",
    "        return \"Loam\"\n",
    "    elif silt >= 80 and sand <= 20 and clay <= 12:\n",
    "        return \"Silt\"\n",
    "    elif silt >= 50 and silt < 80 and clay <= 27 and sand <= 50:\n",
    "        return \"Silt Loam\"\n",
    "    elif sand >= 45 and sand <= 65 and clay >= 20 and clay < 35 and silt <= 28:\n",
    "        return \"Sandy Clay Loam\"\n",
    "    elif clay >= 27 and clay <= 40 and sand >= 20 and sand <= 45 and silt <= 40:\n",
    "        return \"Clay Loam\"\n",
    "    elif clay >= 27 and clay < 40 and silt >= 40 and silt <= 73 and sand <= 20:\n",
    "        return \"Silty Clay Loam\"\n",
    "    elif clay >= 35 and sand >= 45 and silt < 20:\n",
    "        return \"Sandy Clay\"\n",
    "    elif clay >= 40 and silt >= 40 and sand <= 20:\n",
    "        return \"Silty Clay\"\n",
    "    elif clay >= 40 and silt <= 40 and sand <= 45:\n",
    "        return \"Clay\"\n",
    "    else:\n",
    "        return \"Unknown\"  # Initially mark as Unknown if not classified\n",
    "\n",
    "# Secondary classification for \"Unknown\" values using additional conditions for intermediare class : less than 3% of the landscape\n",
    "def secondary_classify_texture(clay, silt, sand):\n",
    "    if 50 < sand < 70 and silt < 30 and clay < 30:\n",
    "        return \"Sandy Clay Loam\"\n",
    "    elif 40 < sand < 80 and silt < 20 and clay < 30:\n",
    "        return \"Sandy Loam\"\n",
    "    elif 30 < sand < 40 and 30 < silt < 40 and clay < 30:\n",
    "        return \"Loam\"\n",
    "    elif sand < 43 and silt > 50 and clay < 27:\n",
    "        return \"Silt Loam\"\n",
    "    elif clay > 35 and sand > 50 and silt < 20:\n",
    "        return \"Sandy Clay\"\n",
    "    elif 30 > sand  and 30 <= silt and 30 <= clay :\n",
    "        return \"Clay Loam\"\n",
    "    elif sand > 67 and silt < 10 and 20 <= clay <= 30:\n",
    "        return \"Sandy Clay Loam\"\n",
    "    elif sand < 45 and silt < 45 and 20 <= clay <= 35:\n",
    "        return \"Sandy Clay Loam\"\n",
    "    elif  sand < 30 and 40 <= silt <= 55 and 20 <= clay <= 30:\n",
    "        return \"Silt Loam\"\n",
    "    elif 30 <= sand <= 35 and silt > 50 and clay < 20:\n",
    "        return \"Silt Loam\"\n",
    "    elif 20 <= sand < 30 and silt > 47 and clay < 25:\n",
    "        return \"Silt\"\n",
    "    elif sand < 20 and silt < 20 and clay > 60:\n",
    "        return \"Clay\"\n",
    "    elif clay > 40 and sand > 20 and silt < 20:\n",
    "        return \"Sandy Clay\"\n",
    "    else:\n",
    "        return \"Unknown\"  # Final check; if still unclassified, keep as Unknown\n",
    "\n",
    "# First pass: Apply primary classification\n",
    "with arcpy.da.UpdateCursor(shapefile, [clay_field, silt_field, sand_field, texture_field]) as cursor:\n",
    "    for row in cursor:\n",
    "        clay, silt, sand = row[:3]\n",
    "        texture = primary_classify_texture(clay, silt, sand)\n",
    "        row[3] = texture\n",
    "        cursor.updateRow(row)\n",
    "\n",
    "# Second pass: Apply secondary classification for \"Unknown\" values\n",
    "with arcpy.da.UpdateCursor(shapefile, [clay_field, silt_field, sand_field, texture_field]) as cursor:\n",
    "    for row in cursor:\n",
    "        if row[3] == \"Unknown\":  # Only reprocess \"Unknown\" values\n",
    "            clay, silt, sand = row[:3]\n",
    "            texture = secondary_classify_texture(clay, silt, sand)\n",
    "            row[3] = texture\n",
    "            cursor.updateRow(row)\n",
    "\n",
    "# Stop the edit session\n",
    "edit.stopOperation()\n",
    "edit.stopEditing(True)\n",
    "\n",
    "print(\"Texture field populated successfully with additional classification steps.\")\n",
    "\n",
    "\n"
   ]
  },
  {
   "cell_type": "code",
   "execution_count": null,
   "metadata": {},
   "outputs": [],
   "source": [
    "\n"
   ]
  },
  {
   "cell_type": "code",
   "execution_count": null,
   "metadata": {},
   "outputs": [],
   "source": [
    "\n"
   ]
  },
  {
   "cell_type": "code",
   "execution_count": null,
   "metadata": {},
   "outputs": [],
   "source": [
    "\n"
   ]
  },
  {
   "cell_type": "code",
   "execution_count": null,
   "metadata": {},
   "outputs": [],
   "source": []
  },
  {
   "cell_type": "code",
   "execution_count": null,
   "metadata": {},
   "outputs": [],
   "source": [
    " \n"
   ]
  },
  {
   "cell_type": "code",
   "execution_count": null,
   "metadata": {},
   "outputs": [],
   "source": []
  },
  {
   "cell_type": "code",
   "execution_count": null,
   "metadata": {},
   "outputs": [],
   "source": []
  }
 ],
 "metadata": {
  "kernelspec": {
   "display_name": "ArcGISPro",
   "language": "Python",
   "name": "python3"
  },
  "language_info": {
   "file_extension": ".py",
   "name": "python",
   "version": "3"
  }
 },
 "nbformat": 4,
 "nbformat_minor": 2
}
